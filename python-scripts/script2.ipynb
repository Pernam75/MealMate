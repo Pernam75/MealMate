{
 "cells": [
  {
   "cell_type": "code",
   "execution_count": null,
   "metadata": {},
   "outputs": [],
   "source": [
    "from recipe_scrapers import scrape_me\n",
    "\n",
    "# give the url as a string, it can be url from any site listed below\n",
    "scraper = scrape_me('https://www.allrecipes.com/recipe/158968/spinach-and-feta-turkey-burgers/')\n",
    "\n",
    "# Q: What if the recipe site I want to extract information from is not listed below?\n",
    "# A: You can give it a try with the wild_mode option! If there is Schema/Recipe available it will work just fine.\n",
    "scraper = scrape_me('https://www.feastingathome.com/tomato-risotto/', wild_mode=True)\n",
    "\n",
    "scraper.title()\n",
    "scraper.total_time()\n",
    "scraper.yields()\n",
    "scraper.ingredients()\n",
    "scraper.instructions()\n",
    "scraper.image()\n",
    "scraper.host()\n",
    "scraper.links()\n",
    "scraper.nutrients()  # if available\n",
    "\n",
    "# Starting from version 14.0.0 you also have an option to scrape from html-like content\n",
    "import requests\n",
    "from recipe_scrapers import scrape_html\n",
    "\n",
    "url = \"https://www.allrecipes.com/recipe/158968/spinach-and-feta-turkey-burgers/\"\n",
    "html = requests.get(url).content\n",
    "\n",
    "scraper = scrape_html(html=html, org_url=url)\n",
    "\n",
    "scraper.title()\n",
    "scraper.total_time()"
   ]
  }
 ],
 "metadata": {
  "language_info": {
   "name": "python"
  },
  "orig_nbformat": 4
 },
 "nbformat": 4,
 "nbformat_minor": 2
}
