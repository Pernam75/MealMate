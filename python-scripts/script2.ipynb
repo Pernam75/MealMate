{
 "cells": [
  {
   "cell_type": "code",
   "execution_count": 12,
   "metadata": {},
   "outputs": [
    {
     "name": "stdout",
     "output_type": "stream",
     "text": [
      "{'\\n  tablespoons    soy sauce\\n': '2 ', '\\n  tablespoon    rice vinegar\\n': '1 ', '\\n  teaspoon    toasted sesame oil\\n': '1 ', '\\n  teaspoon    wasabi powder, mixed with \\n': '1 ', '\\n  teaspoon    water\\n': '1 ', '\\n  lbs    tuna steaks, 1 1/2 inches thick,cut into 1 1/2 inch chunks \\n': '1 1⁄4', '\\n      bamboo skewers, soaked in water for 10 minutes  (10 or 12 inch)\\n': '4 '}\n"
     ]
    }
   ],
   "source": [
    "import requests\n",
    "from bs4 import BeautifulSoup\n",
    "\n",
    "URL = \"https://www.food.com/recipe/99998\"\n",
    "page = requests.get(URL)\n",
    "\n",
    "soup = BeautifulSoup(page.content, \"html.parser\")\n",
    "mydivs = soup.select_one('.ingredients.svelte-1avdnba')\n",
    "\n",
    "ingredients_dic = {}\n",
    "\n",
    "\n",
    "\n",
    "\n",
    "def get_ingredients(mydivs):\n",
    "    for ingredient in mydivs.find_all('li'):\n",
    "        ingredient_name = ingredient.find('span', class_='ingredient__text').text\n",
    "        ingredient_amount = ingredient.find('span', class_='ingredient__quantity').text\n",
    "        ingredients_dic[ingredient_name] = ingredient_amount\n",
    "    return ingredients_dic\n",
    "\n",
    "print(get_ingredients(mydivs))\n"
   ]
  }
 ],
 "metadata": {
  "kernelspec": {
   "display_name": "Python 3.11.0a1 64-bit",
   "language": "python",
   "name": "python3"
  },
  "language_info": {
   "codemirror_mode": {
    "name": "ipython",
    "version": 3
   },
   "file_extension": ".py",
   "mimetype": "text/x-python",
   "name": "python",
   "nbconvert_exporter": "python",
   "pygments_lexer": "ipython3",
   "version": "3.11.0"
  },
  "orig_nbformat": 4,
  "vscode": {
   "interpreter": {
    "hash": "ef75919838bdbc39504acbef6b47dc5fc97ca828019bb57e020777186dab3911"
   }
  }
 },
 "nbformat": 4,
 "nbformat_minor": 2
}
