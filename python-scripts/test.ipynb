{
 "cells": [
  {
   "cell_type": "code",
   "execution_count": 16,
   "metadata": {
    "pycharm": {
     "name": "#%%\n"
    }
   },
   "outputs": [],
   "source": [
    "import pandas as pd\n",
    "from scipy.sparse import csr_matrix\n",
    "import numpy as np\n",
    "from sklearn.neighbors import NearestNeighbors\n",
    "import requests\n",
    "from bs4 import BeautifulSoup\n",
    "from sklearn.neighbors import NearestNeighbors"
   ]
  },
  {
   "cell_type": "code",
   "execution_count": 17,
   "metadata": {
    "pycharm": {
     "name": "#%%\n"
    }
   },
   "outputs": [
    {
     "name": "stdout",
     "output_type": "stream",
     "text": [
      "Similar recipes to 495275 are: [494438, 495577, 494435, 486496, 474987, 495271, 121799, 505862, 493413, 486261]\n"
     ]
    }
   ],
   "source": [
    "def create_ratings_df(n_vote_user, n_vote_recipe):\n",
    "    \"\"\"\n",
    "    The create_ratings_df function creates a dataframe of the ratings from the RAW_interactions.csv file, \n",
    "    where each row is a user-recipe pair and contains their rating for that recipe. The function also filters out \n",
    "    any users who have rated less than n_vote_user recipes and any recipes that have been rated\n",
    "    \n",
    "    :param n_vote_user: Filter the users that have voted at least n times\n",
    "    :param n_vote_recipe: Filter the recipes that have been rated at least n times\n",
    "    :return: A dataframe with the ratings of each user\n",
    "    \"\"\"\n",
    "    df = pd.read_csv(\"../src/recipesDB/RAW_interactions.csv\")\n",
    "\n",
    "    grade = df[[\"user_id\",\"recipe_id\",\"rating\"]]\n",
    "\n",
    "    data_df = pd.DataFrame(grade['user_id'].value_counts())\n",
    "    final_data = data_df[(data_df[\"user_id\"]>n_vote_user)]\n",
    "\n",
    "    data_df1 = pd.DataFrame(grade['recipe_id'].value_counts())\n",
    "    final_data1 = data_df1[(data_df1[\"recipe_id\"]>n_vote_recipe)]\n",
    "\n",
    "    ratings = df.loc[(df['user_id'].isin(final_data.index)) & (df['recipe_id'].isin(final_data1.index))]\n",
    "    ratings = ratings.drop(columns = ['date', 'review'], axis=1)\n",
    "    return ratings\n",
    "\n",
    "def create_matrix(df):\n",
    "      \n",
    "    N = len(df['user_id'].unique())\n",
    "    M = len(df['recipe_id'].unique())\n",
    "      \n",
    "    # Map Ids to indices\n",
    "    user_mapper = dict(zip(np.unique(df[\"user_id\"]), list(range(N))))\n",
    "    recipe_mapper = dict(zip(np.unique(df[\"recipe_id\"]), list(range(M))))\n",
    "      \n",
    "    # Map indices to IDs\n",
    "    user_inv_mapper = dict(zip(list(range(N)), np.unique(df[\"user_id\"])))\n",
    "    recipe_inv_mapper = dict(zip(list(range(M)), np.unique(df[\"recipe_id\"])))\n",
    "      \n",
    "    user_index = [user_mapper[i] for i in df['user_id']]\n",
    "    recipe_index = [recipe_mapper[i] for i in df['recipe_id']]\n",
    "  \n",
    "    X = csr_matrix((df[\"rating\"], (recipe_index, user_index)), shape=(M, N))\n",
    "      \n",
    "    return X, user_mapper, recipe_mapper, user_inv_mapper, recipe_inv_mapper\n",
    "\n",
    "def find_similar_recipes(recipe_id, ratings, k, metric='cosine', show_distance=False):\n",
    "    X, user_mapper, recipe_mapper, user_inv_mapper, recipe_inv_mapper = create_matrix(ratings)  \n",
    "    neighbour_ids = []\n",
    "      \n",
    "    recipe_ind = recipe_mapper[recipe_id]\n",
    "    recipe_vec = X[recipe_ind]\n",
    "    k+=1\n",
    "    kNN = NearestNeighbors(n_neighbors=k, algorithm=\"brute\", metric=metric)\n",
    "    kNN.fit(X)\n",
    "    recipe_vec = recipe_vec.reshape(1,-1)\n",
    "    neighbour = kNN.kneighbors(recipe_vec, return_distance=show_distance)\n",
    "    for i in range(0,k):\n",
    "        n = neighbour.item(i)\n",
    "        neighbour_ids.append(recipe_inv_mapper[n])\n",
    "    neighbour_ids.pop(0)\n",
    "    return neighbour_ids\n",
    "\n",
    "\n",
    "ratings = create_ratings_df(50, 50)\n",
    "# X, user_mapper, recipe_mapper, user_inv_mapper, recipe_inv_mapper = create_matrix(ratings)\n",
    "# Exemples d'id recette à tester :\n",
    "# [486496, 495275, 474987, 495271, 16512, 16859, 105594, 121799, 14111, 33387]\n",
    "recipe_id = 495275\n",
    "similar_ids = find_similar_recipes(recipe_id, ratings, k=10)\n",
    "print(f\"Similar recipes to {recipe_id} are: {similar_ids}\")"
   ]
  },
  {
   "cell_type": "code",
   "execution_count": 18,
   "metadata": {
    "pycharm": {
     "name": "#%%\n"
    }
   },
   "outputs": [
    {
     "name": "stdout",
     "output_type": "stream",
     "text": [
      "Similar recipes to 495275 are: [494438, 495577, 494435, 486496, 474987, 495271, 121799, 505862, 493413, 486261]\n"
     ]
    }
   ],
   "source": [
    "def main():\n",
    "    ratings = create_ratings_df(50, 50)\n",
    "    X, user_mapper, recipe_mapper, user_inv_mapper, recipe_inv_mapper = create_matrix(ratings)\n",
    "    recipe_id = 495275\n",
    "    similar_ids = find_similar_recipes(recipe_id, ratings, 10)\n",
    "    print(f\"Similar recipes to {recipe_id} are: {similar_ids}\")\n",
    "main()"
   ]
  }
 ],
 "metadata": {
  "kernelspec": {
   "display_name": "Python 3.9.12 ('base')",
   "language": "python",
   "name": "python3"
  },
  "language_info": {
   "codemirror_mode": {
    "name": "ipython",
    "version": 3
   },
   "file_extension": ".py",
   "mimetype": "text/x-python",
   "name": "python",
   "nbconvert_exporter": "python",
   "pygments_lexer": "ipython3",
   "version": "3.9.12"
  },
  "orig_nbformat": 4,
  "vscode": {
   "interpreter": {
    "hash": "808eefdcfd682483f91e0e2f741697271570b90e0db4b222855f8c26fcc7a33e"
   }
  }
 },
 "nbformat": 4,
 "nbformat_minor": 2
}