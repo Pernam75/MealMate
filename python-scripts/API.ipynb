{
 "cells": [
  {
   "cell_type": "code",
   "execution_count": 1,
   "metadata": {},
   "outputs": [],
   "source": [
    "import script\n",
    "from flask import Flask, jsonify, request\n",
    "import pandas as pd\n",
    "from bs4 import BeautifulSoup\n",
    "import requests\n",
    "from datetime import datetime\n",
    "import json\n"
   ]
  },
  {
   "cell_type": "code",
   "execution_count": 2,
   "metadata": {},
   "outputs": [],
   "source": [
    "app = Flask(__name__)"
   ]
  },
  {
   "cell_type": "code",
   "execution_count": 3,
   "metadata": {},
   "outputs": [],
   "source": [
    "@app.route('/api/machine_learning', methods = ['GET'])\n",
    "def get_machine_learning():\n",
    "    args = request.args\n",
    "    id = args.get(\"id\")\n",
    "    recipe_list = script.main_function(int(id))\n",
    "    return {'recipe_list': recipe_list}, 200\n"
   ]
  },
  {
   "cell_type": "code",
   "execution_count": 4,
   "metadata": {},
   "outputs": [],
   "source": [
    "@app.route('/api/tags', methods = ['GET'])\n",
    "def get_tags():\n",
    "    smallRecipes = pd.read_csv('../src/recipesDB/Small_Recipes.csv')\n",
    "    def returnSteps(smallRecipe):\n",
    "        smallRecipe = pd.DataFrame(smallRecipe.set_index('id')['tags'])\n",
    "        smallRecipe[\"tags\"] = smallRecipe[\"tags\"].str.replace(\"[\", '')\n",
    "        smallRecipe[\"tags\"] = smallRecipe[\"tags\"].str.replace(\"']\", '')\n",
    "        smallRecipe = smallRecipe.tags.str.split(\"', '\",expand=True)\n",
    "        smallRecipe[0] = smallRecipe[0].str.replace(\"'\", '')\n",
    "        return smallRecipe\n",
    "    allSteps = returnSteps(smallRecipes)\n",
    "    tags = []\n",
    "    for i in range(len(allSteps.columns)):\n",
    "        tags = tags + list(allSteps.iloc[:,i].unique())\n",
    "    tags = set(tags)\n",
    "    while '' in tags:\n",
    "        tags.remove('')\n",
    "    while None in tags:\n",
    "        tags.remove(None)\n",
    "    tags = list(tags)\n",
    "\n",
    "    return {'tags': tags}, 200\n",
    "    "
   ]
  },
  {
   "cell_type": "code",
   "execution_count": 5,
   "metadata": {},
   "outputs": [],
   "source": [
    "@app.route('/api/recherche', methods = ['GET'])\n",
    "def get_recherche_nom():\n",
    "    args = request.args\n",
    "    name_tags = args.get(\"search_bar\")\n",
    "    tags = args.get(\"search_button\")\n",
    "    result = []\n",
    "    df = pd.read_csv(\"../src/recipesDB/Small_Recipes.csv\")\n",
    "    if name_tags is not None:\n",
    "        df1 = df[[\"name\",\"id\"]].copy()\n",
    "        df1 = df1.set_index(\"id\")\n",
    "        df1 = df1[\"name\"].str.contains(name_tags) \n",
    "        result_name = df1.loc[df1 == True].to_frame().index.to_list()\n",
    "        df2 = df[[\"tags\",\"id\"]].copy()\n",
    "        df2 = df2.set_index(\"id\")\n",
    "        df2 = df2[\"tags\"].str.contains(name_tags) \n",
    "        result_tags = df2.loc[df2 == True].to_frame().index.to_list()\n",
    "        result = list(set(result_name + result_tags))\n",
    "    if tags is not None:\n",
    "        df1 = df[[\"tags\",\"id\"]].copy()\n",
    "        df1 = df1.set_index(\"id\")\n",
    "        df1 = df1[\"tags\"].str.contains(tags) \n",
    "        result = df1.loc[df1 == True].to_frame().index.to_list()\n",
    "    return {'recipes': result}, 200"
   ]
  },
  {
   "cell_type": "code",
   "execution_count": 6,
   "metadata": {},
   "outputs": [],
   "source": [
    "@app.route('/api/Ajouter_note', methods = ['POST'])\n",
    "def get_ajouter_note():\n",
    "    args = request.args\n",
    "    id_user = args.get(\"id_user\")\n",
    "    id_recipes = args.get(\"id_recipes\")\n",
    "    note = 5\n",
    "    df = pd.read_csv(\"../src/recipesDB/note.csv\")\n",
    "    data = {'user_id':id_user, 'recipe_id':id_recipes, 'rating':note}\n",
    "    df = df.append(data, ignore_index=True)\n",
    "    df.to_csv(\"../src/recipesDB/note.csv\", index=False)\n",
    "    return {'status': \"j'aime\"}, 200"
   ]
  },
  {
   "cell_type": "code",
   "execution_count": 7,
   "metadata": {},
   "outputs": [],
   "source": [
    "@app.route('/api/recette', methods = ['GET'])\n",
    "def get_recette_all():\n",
    "    args = request.args\n",
    "    id = args.get(\"id\")\n",
    "    result = []\n",
    "    if id is None:\n",
    "        df = pd.read_csv(\"../src/recipesDB/Small_Recipes.csv\")\n",
    "        id = list(df['id'])\n",
    "        df1 = []\n",
    "        for i in range(693):\n",
    "            \"\"\"recipe = script.SmallRecipe(int(i))\n",
    "            df1.append(recipe.__dict__())\"\"\"\n",
    "            print(id[i], i)\n",
    "            response = requests.get('http://www.food.com/recipe/' + str(i))\n",
    "            if response.status_code == 200:\n",
    "                soup = BeautifulSoup(response.text, 'html.parser')\n",
    "                suggestion = script.MediumRecipe(int(id[i]), soup)\n",
    "                df1.append(suggestion.__dict__())\n",
    "        return {'recipes': df1}, 200\n",
    "    recipe = script.SmallRecipe(int(id))\n",
    "    return {'recipes': recipe.__dict__()}, 200"
   ]
  },
  {
   "cell_type": "code",
   "execution_count": 8,
   "metadata": {},
   "outputs": [
    {
     "name": "stdout",
     "output_type": "stream",
     "text": [
      " * Serving Flask app \"__main__\" (lazy loading)\n",
      " * Environment: production\n",
      "\u001b[31m   WARNING: This is a development server. Do not use it in a production deployment.\u001b[0m\n",
      "\u001b[2m   Use a production WSGI server instead.\u001b[0m\n",
      " * Debug mode: on\n"
     ]
    },
    {
     "name": "stderr",
     "output_type": "stream",
     "text": [
      " * Running on http://127.0.0.1:5000/ (Press CTRL+C to quit)\n",
      "C:\\Users\\sushi\\AppData\\Local\\Temp\\ipykernel_8560\\4102403323.py:9: FutureWarning: The frame.append method is deprecated and will be removed from pandas in a future version. Use pandas.concat instead.\n",
      "  df = df.append(data, ignore_index=True)\n",
      "127.0.0.1 - - [05/Jul/2022 23:34:23] \"POST /api/Ajouter_note?id_user=200000000&id_recipes=137575 HTTP/1.1\" 200 -\n"
     ]
    }
   ],
   "source": [
    "if __name__ == '__main__':\n",
    "    app.run(debug=True, use_reloader=False)"
   ]
  }
 ],
 "metadata": {
  "kernelspec": {
   "display_name": "Python 3.9.12 ('base')",
   "language": "python",
   "name": "python3"
  },
  "language_info": {
   "codemirror_mode": {
    "name": "ipython",
    "version": 3
   },
   "file_extension": ".py",
   "mimetype": "text/x-python",
   "name": "python",
   "nbconvert_exporter": "python",
   "pygments_lexer": "ipython3",
   "version": "3.9.12"
  },
  "orig_nbformat": 4,
  "vscode": {
   "interpreter": {
    "hash": "153ed0e0dede5b17044ed56a49ca79a0d78e8d763ca21b9e9fbda64f51ed6213"
   }
  }
 },
 "nbformat": 4,
 "nbformat_minor": 2
}
