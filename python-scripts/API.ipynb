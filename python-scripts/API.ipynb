{
 "cells": [
  {
   "cell_type": "code",
   "execution_count": null,
   "metadata": {},
   "outputs": [],
   "source": [
    "import script\n",
    "from flask import Flask, jsonify, request\n",
    "import pandas as pd\n",
    "from bs4 import BeautifulSoup\n",
    "import requests\n",
    "from datetime import datetime\n",
    "import json\n"
   ]
  },
  {
   "cell_type": "code",
   "execution_count": 19,
   "metadata": {},
   "outputs": [],
   "source": [
    "app = Flask(__name__)"
   ]
  },
  {
   "cell_type": "code",
   "execution_count": 20,
   "metadata": {},
   "outputs": [],
   "source": [
    "@app.route('/api/recherche_nom', methods = ['GET'])\n",
    "def get_recherche_nom():\n",
    "    args = request.args\n",
    "    name = args.get(\"name\")\n",
    "    df = pd.read_csv(\"../src/recipesDB/Small_Recipes.csv\")\n",
    "    df1 = df[[\"name\",\"id\"]].copy()\n",
    "    df1 = df1.set_index(\"id\")\n",
    "    df1 = df1[\"name\"].str.contains(name) \n",
    "    result = df1.loc[df1 == True].to_frame().index.to_list()\n",
    "    df2 = []\n",
    "    for i in result:\n",
    "        recipe = script.SmallRecipe(int(i))\n",
    "        df2.append(recipe.__dict__())\n",
    "    return {'recipes': df2}, 200"
   ]
  },
  {
   "cell_type": "code",
   "execution_count": 21,
   "metadata": {},
   "outputs": [],
   "source": [
    "@app.route('/api/recette', methods = ['GET'])\n",
    "def get_recette_all():\n",
    "    args = request.args\n",
    "    id = args.get(\"id\")\n",
    "    if id is None:\n",
    "        df = pd.read_csv(\"../src/recipesDB/Small_Recipes.csv\")\n",
    "        id = list(df['id'])\n",
    "        df1 = []\n",
    "        for i in id:\n",
    "            recipe = script.SmallRecipe(int(i))\n",
    "            df1.append(recipe.__dict__())\n",
    "        return {'recipes': df1}, 200\n",
    "    recipe = script.SmallRecipe(int(id))\n",
    "    return {'recipes': recipe.__dict__()}, 200"
   ]
  },
  {
   "cell_type": "code",
   "execution_count": 22,
   "metadata": {},
   "outputs": [],
   "source": [
    "@app.route('/api/machine_learning', methods = ['GET'])\n",
    "def get_machine_learning():\n",
    "    args = request.args\n",
    "    id = args.get(\"id\")\n",
    "    recipe_list = script.main_function(int(id))\n",
    "    df1 = []\n",
    "    for i in recipe_list:\n",
    "        response = requests.get('http://www.food.com/recipe/' + str(i))\n",
    "        if response.status_code == 200:\n",
    "            soup = BeautifulSoup(response.text, 'html.parser')\n",
    "            suggestion = script.MediumRecipe(int(i), soup)\n",
    "            df1.append(suggestion.__dict__())\n",
    "    return {'suggestion': df1}, 200\n"
   ]
  },
  {
   "cell_type": "code",
   "execution_count": 23,
   "metadata": {},
   "outputs": [],
   "source": [
    "@app.route('/api/utilisateur', methods = ['POST'])\n",
    "def post_nouvel_utilisateur():\n",
    "    df = pd.read_csv(\"../src/recipesDB/User.csv\")\n",
    "    args = request.args\n",
    "    firstName = args.get(\"FirstName\")\n",
    "    lastName = args.get(\"LastName\")\n",
    "    password = args.get(\"Password\")\n",
    "    mail = args.get(\"Email\")\n",
    "    avatar = args.get(\"MyAvatar\")\n",
    "    date = datetime.today().strftime('%Y-%m-%d')\n",
    "    id = df.last().id + 1\n",
    "    likes = []\n",
    "    user = pd.DataFrame({\"id\":[id],\"firstName\": [firstName], \"lastName\": [lastName], \"password\": [password], \"mail\": [mail], \"avatar\": [avatar], \"date\": [date]})\n",
    "    user.to_json(\"../src/recipesDB/User.csv\", mode='a', header=False)"
   ]
  },
  {
   "cell_type": "code",
   "execution_count": 24,
   "metadata": {},
   "outputs": [
    {
     "name": "stdout",
     "output_type": "stream",
     "text": [
      "2022-07-05\n"
     ]
    }
   ],
   "source": [
    "print(datetime.today().strftime('%Y-%m-%d'))"
   ]
  },
  {
   "cell_type": "code",
   "execution_count": 25,
   "metadata": {},
   "outputs": [
    {
     "name": "stdout",
     "output_type": "stream",
     "text": [
      " * Serving Flask app \"__main__\" (lazy loading)\n",
      " * Environment: production\n",
      "   WARNING: This is a development server. Do not use it in a production deployment.\n",
      "   Use a production WSGI server instead.\n",
      " * Debug mode: on\n"
     ]
    },
    {
     "name": "stderr",
     "output_type": "stream",
     "text": [
      " * Running on http://127.0.0.1:5000/ (Press CTRL+C to quit)\n"
     ]
    }
   ],
   "source": [
    "if __name__ == '__main__':\n",
    "    app.run(debug=True, use_reloader=False)"
   ]
  }
 ],
 "metadata": {
  "kernelspec": {
   "display_name": "Python 3.8.8 ('base')",
   "language": "python",
   "name": "python3"
  },
  "language_info": {
   "codemirror_mode": {
    "name": "ipython",
    "version": 3
   },
   "file_extension": ".py",
   "mimetype": "text/x-python",
   "name": "python",
   "nbconvert_exporter": "python",
   "pygments_lexer": "ipython3",
   "version": "3.8.8"
  },
  "orig_nbformat": 4,
  "vscode": {
   "interpreter": {
    "hash": "d479f4d449a9daf7152095a1bd1b5bb4fdefea3e861ef48580c06cd0ef5000b2"
   }
  }
 },
 "nbformat": 4,
 "nbformat_minor": 2
}
