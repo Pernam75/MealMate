{
 "cells": [
  {
   "cell_type": "code",
   "execution_count": 1,
   "metadata": {},
   "outputs": [],
   "source": [
    "import script\n",
    "from flask import Flask, jsonify, request\n",
    "import pandas as pd"
   ]
  },
  {
   "cell_type": "code",
   "execution_count": 2,
   "metadata": {},
   "outputs": [],
   "source": [
    "app = Flask(__name__)"
   ]
  },
  {
   "cell_type": "code",
   "execution_count": 3,
   "metadata": {},
   "outputs": [
    {
     "data": {
      "text/plain": [
       "'@app.route(\\'/api/recette\\', methods = [\\'GET\\'])\\ndef get_recette_all():\\n    args = request.args\\n    id = args.get(\"id\")\\n    if id is None:\\n        df = pd.read_csv(\"../src/recipesDB/Small_Recipes.csv\")\\n        list_all = list(df[\\'id\\'])\\n        df1 = []\\n        for i in list_all:\\n            recipe = script.SmallRecipe(int(i))\\n            df1.append(recipe.__dict__())\\n        return {\\'recipes\\': df}, 200\\n    recipe = script.SmallRecipe(int(id))\\n    return {\\'recipes\\': recipe.__dict__()}, 200'"
      ]
     },
     "execution_count": 3,
     "metadata": {},
     "output_type": "execute_result"
    }
   ],
   "source": [
    "\"\"\"@app.route('/api/recette', methods = ['GET'])\n",
    "def get_recette_all():\n",
    "    args = request.args\n",
    "    id = args.get(\"id\")\n",
    "    if id is None:\n",
    "        df = pd.read_csv(\"../src/recipesDB/Small_Recipes.csv\")\n",
    "        list_all = list(df['id'])\n",
    "        df1 = []\n",
    "        for i in list_all:\n",
    "            recipe = script.SmallRecipe(int(i))\n",
    "            df1.append(recipe.__dict__())\n",
    "        return {'recipes': df}, 200\n",
    "    recipe = script.SmallRecipe(int(id))\n",
    "    return {'recipes': recipe.__dict__()}, 200\"\"\""
   ]
  },
  {
   "cell_type": "code",
   "execution_count": 4,
   "metadata": {},
   "outputs": [],
   "source": [
    "@app.route('/api/recette', methods = ['GET'])\n",
    "def get_recette_all():\n",
    "    args = request.args\n",
    "    id = args.get(\"id\")\n",
    "    if id is None:\n",
    "        df = pd.read_csv(\"../src/recipesDB/Small_Recipes.csv\")\n",
    "        id = list(df['id'])\n",
    "        df1 = []\n",
    "        for i in id:\n",
    "            recipe = script.SmallRecipe(int(i))\n",
    "            df1.append(recipe.__dict__())\n",
    "        return {'recipes': df1}, 200\n",
    "    recipe = script.SmallRecipe(int(id))\n",
    "    return {'recipes': recipe.__dict__()}, 200"
   ]
  },
  {
   "cell_type": "code",
   "execution_count": 5,
   "metadata": {},
   "outputs": [],
   "source": [
    "@app.route('/api/machine_learning', methods = ['GET'])\n",
    "def get_machine_learning():\n",
    "    args = request.args\n",
    "    id = args.get(\"id\")\n",
    "    recipe_list = script.main_function(int(id))\n",
    "    df1 = []\n",
    "    for i in recipe_list:\n",
    "        suggestion = script.SmallRecipe(int(i))\n",
    "        df1.append(suggestion.__dict__())\n",
    "    return {'suggestion': df1}, 200\n"
   ]
  },
  {
   "cell_type": "code",
   "execution_count": 6,
   "metadata": {},
   "outputs": [
    {
     "name": "stdout",
     "output_type": "stream",
     "text": [
      " * Serving Flask app \"__main__\" (lazy loading)\n",
      " * Environment: production\n",
      "\u001b[31m   WARNING: This is a development server. Do not use it in a production deployment.\u001b[0m\n",
      "\u001b[2m   Use a production WSGI server instead.\u001b[0m\n",
      " * Debug mode: on\n"
     ]
    },
    {
     "name": "stderr",
     "output_type": "stream",
     "text": [
      " * Running on http://127.0.0.1:5000/ (Press CTRL+C to quit)\n",
      "127.0.0.1 - - [04/Jul/2022 21:17:11] \"GET /api/machine_learning?id=1533 HTTP/1.1\" 200 -\n",
      "127.0.0.1 - - [04/Jul/2022 21:21:11] \"GET /api/machine_learning?id=1533 HTTP/1.1\" 200 -\n"
     ]
    }
   ],
   "source": [
    "if __name__ == '__main__':\n",
    "    app.run(debug=True, use_reloader=False)"
   ]
  }
 ],
 "metadata": {
  "kernelspec": {
   "display_name": "Python 3.9.12 ('base')",
   "language": "python",
   "name": "python3"
  },
  "language_info": {
   "codemirror_mode": {
    "name": "ipython",
    "version": 3
   },
   "file_extension": ".py",
   "mimetype": "text/x-python",
   "name": "python",
   "nbconvert_exporter": "python",
   "pygments_lexer": "ipython3",
   "version": "3.9.12"
  },
  "orig_nbformat": 4,
  "vscode": {
   "interpreter": {
    "hash": "153ed0e0dede5b17044ed56a49ca79a0d78e8d763ca21b9e9fbda64f51ed6213"
   }
  }
 },
 "nbformat": 4,
 "nbformat_minor": 2
}
